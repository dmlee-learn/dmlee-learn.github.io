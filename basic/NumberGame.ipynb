{
  "nbformat": 4,
  "nbformat_minor": 0,
  "metadata": {
    "colab": {
      "provenance": [],
      "authorship_tag": "ABX9TyPfOSfUHauHhbsHeG05MIE4",
      "include_colab_link": true
    },
    "kernelspec": {
      "name": "python3",
      "display_name": "Python 3"
    },
    "language_info": {
      "name": "python"
    }
  },
  "cells": [
    {
      "cell_type": "markdown",
      "metadata": {
        "id": "view-in-github",
        "colab_type": "text"
      },
      "source": [
        "<a href=\"https://colab.research.google.com/github/dmlee-learn/dmlee-learn.github.io/blob/main/basic/NumberGame.ipynb\" target=\"_parent\"><img src=\"https://colab.research.google.com/assets/colab-badge.svg\" alt=\"Open In Colab\"/></a>"
      ]
    },
    {
      "cell_type": "code",
      "execution_count": 2,
      "metadata": {
        "colab": {
          "base_uri": "https://localhost:8080/"
        },
        "id": "gFuPK7-o3KNd",
        "outputId": "3dbcecde-0b10-4037-b716-540a6d0d48f6"
      },
      "outputs": [
        {
          "output_type": "stream",
          "name": "stdout",
          "text": [
            "input your choice number.5\n",
            "Lower!\n",
            "input your choice number.20\n",
            "Lower!\n",
            "input your choice number.40\n",
            "Higer!\n",
            "input your choice number.35\n",
            "Higer!\n",
            "input your choice number.33\n",
            "Higer!\n",
            "input your choice number.31\n",
            "Higer!\n",
            "input your choice number.30\n",
            "Higer!\n",
            "input your choice number.29\n",
            "Higer!\n",
            "input your choice number.26\n",
            "Higer!\n",
            "input your choice number.24\n",
            "Higer!\n",
            "input your choice number.22\n",
            "Higer!\n",
            "input your choice number.21\n",
            "You win!\n"
          ]
        }
      ],
      "source": [
        "from random import randint\n",
        "\n",
        "pc_value = randint(1, 50)\n",
        "use_value = 0\n",
        "run = True\n",
        "\n",
        "while(run):\n",
        "  use_value = int(input(\"input your choice number.\"))\n",
        "  \n",
        "  result = \"\"\n",
        "  if pc_value > use_value: result = \"Lower!\"\n",
        "  elif pc_value < use_value: result = \"Higer!\"\n",
        "  else: result = \"You win!\"\n",
        "\n",
        "  print(result)\n",
        "  if result == \"You win!\":run = False\n"
      ]
    },
    {
      "cell_type": "code",
      "source": [],
      "metadata": {
        "id": "kISp5v5V4uAo"
      },
      "execution_count": null,
      "outputs": []
    }
  ]
}